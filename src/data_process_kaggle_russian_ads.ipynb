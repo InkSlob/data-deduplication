{
 "cells": [
  {
   "cell_type": "code",
   "execution_count": 2,
   "id": "mysterious-appendix",
   "metadata": {},
   "outputs": [],
   "source": [
    "import pandas as pd"
   ]
  },
  {
   "cell_type": "code",
   "execution_count": 9,
   "id": "composite-configuration",
   "metadata": {},
   "outputs": [],
   "source": [
    "df = pd.read_csv('/Users/jessewright/Code/data-deduplication/data/ItemInfo_test.csv')"
   ]
  },
  {
   "cell_type": "code",
   "execution_count": 10,
   "id": "rough-episode",
   "metadata": {},
   "outputs": [
    {
     "data": {
      "text/plain": [
       "(1315205, 11)"
      ]
     },
     "execution_count": 10,
     "metadata": {},
     "output_type": "execute_result"
    }
   ],
   "source": [
    "df.shape"
   ]
  },
  {
   "cell_type": "code",
   "execution_count": 11,
   "id": "union-cardiff",
   "metadata": {},
   "outputs": [
    {
     "data": {
      "text/plain": [
       "Index(['itemID', 'categoryID', 'title', 'description', 'images_array',\n",
       "       'attrsJSON', 'price', 'locationID', 'metroID', 'lat', 'lon'],\n",
       "      dtype='object')"
      ]
     },
     "execution_count": 11,
     "metadata": {},
     "output_type": "execute_result"
    }
   ],
   "source": [
    "df.columns"
   ]
  },
  {
   "cell_type": "code",
   "execution_count": 13,
   "id": "ethical-weapon",
   "metadata": {},
   "outputs": [
    {
     "name": "stdout",
     "output_type": "stream",
     "text": [
      "   itemID  categoryID                                   title  \\\n",
      "0       5         115  Сотрудничество салонам кухонной мебели   \n",
      "1       6          10                          Радар-детектор   \n",
      "\n",
      "                                         description images_array  \\\n",
      "0  Сотрудничество салонам кухонной мебели.\\nТребу...          NaN   \n",
      "1  Продам радар-детектор в идеальном состоянии!Пр...          NaN   \n",
      "\n",
      "                                attrsJSON  price  locationID   metroID  \\\n",
      "0                 {\"Вид услуги\":\"Другое\"}    NaN      637640  500292.0   \n",
      "1  {\"Вид товара\":\"Аудио- и видеотехника\"}    NaN      637160       NaN   \n",
      "\n",
      "         lat        lon  \n",
      "0  55.760211  37.577211  \n",
      "1  59.645846  33.513035  \n"
     ]
    }
   ],
   "source": [
    "print(df.head(2))"
   ]
  },
  {
   "cell_type": "code",
   "execution_count": 14,
   "id": "green-tribune",
   "metadata": {},
   "outputs": [],
   "source": [
    "df_reduced = df[['description']]"
   ]
  },
  {
   "cell_type": "code",
   "execution_count": 16,
   "id": "cross-allowance",
   "metadata": {},
   "outputs": [
    {
     "data": {
      "text/html": [
       "<div>\n",
       "<style scoped>\n",
       "    .dataframe tbody tr th:only-of-type {\n",
       "        vertical-align: middle;\n",
       "    }\n",
       "\n",
       "    .dataframe tbody tr th {\n",
       "        vertical-align: top;\n",
       "    }\n",
       "\n",
       "    .dataframe thead th {\n",
       "        text-align: right;\n",
       "    }\n",
       "</style>\n",
       "<table border=\"1\" class=\"dataframe\">\n",
       "  <thead>\n",
       "    <tr style=\"text-align: right;\">\n",
       "      <th></th>\n",
       "      <th>description</th>\n",
       "    </tr>\n",
       "  </thead>\n",
       "  <tbody>\n",
       "    <tr>\n",
       "      <th>0</th>\n",
       "      <td>Сотрудничество салонам кухонной мебели.\\nТребу...</td>\n",
       "    </tr>\n",
       "    <tr>\n",
       "      <th>1</th>\n",
       "      <td>Продам радар-детектор в идеальном состоянии!Пр...</td>\n",
       "    </tr>\n",
       "    <tr>\n",
       "      <th>2</th>\n",
       "      <td>Зарядное устройство для ноутбука Lenovo, (19v,...</td>\n",
       "    </tr>\n",
       "  </tbody>\n",
       "</table>\n",
       "</div>"
      ],
      "text/plain": [
       "                                         description\n",
       "0  Сотрудничество салонам кухонной мебели.\\nТребу...\n",
       "1  Продам радар-детектор в идеальном состоянии!Пр...\n",
       "2  Зарядное устройство для ноутбука Lenovo, (19v,..."
      ]
     },
     "execution_count": 16,
     "metadata": {},
     "output_type": "execute_result"
    }
   ],
   "source": [
    "df_reduced.head(3)"
   ]
  },
  {
   "cell_type": "code",
   "execution_count": 17,
   "id": "immune-constant",
   "metadata": {},
   "outputs": [],
   "source": [
    "df_reduced.to_csv('/Users/jessewright/Code/data-deduplication/data/rs_ads_descriptions.csv')"
   ]
  },
  {
   "cell_type": "code",
   "execution_count": null,
   "id": "tender-cornwall",
   "metadata": {},
   "outputs": [],
   "source": []
  }
 ],
 "metadata": {
  "kernelspec": {
   "display_name": "Python 3",
   "language": "python",
   "name": "python3"
  },
  "language_info": {
   "codemirror_mode": {
    "name": "ipython",
    "version": 3
   },
   "file_extension": ".py",
   "mimetype": "text/x-python",
   "name": "python",
   "nbconvert_exporter": "python",
   "pygments_lexer": "ipython3",
   "version": "3.7.3"
  }
 },
 "nbformat": 4,
 "nbformat_minor": 5
}
