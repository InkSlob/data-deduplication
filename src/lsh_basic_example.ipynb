{
 "cells": [
  {
   "cell_type": "markdown",
   "id": "imported-implement",
   "metadata": {},
   "source": [
    "# Locality Sensitive Hashing - Python3 Example\n",
    "\n",
    "The following Python3 Jupyter Notebook walks through a general example of a LSH example.\n",
    "\n",
    "### References\n",
    "\n",
    "* stack overflow example of the lsh where much of the code is from. [How to understand Locality Sensitive Hashing](https://stackoverflow.com/questions/12952729/how-to-understand-locality-sensitive-hashing)\n",
    "* [Mining of Massive Datasets. Check Chapter 3 - Finding Similar Items](http://infolab.stanford.edu/~ullman/mmds/ch3a.pdf)\n",
    "* [Locality-Sensitive Hashing for Finding Nearest Neighbors](http://www.slaney.org/malcolm/yahoo/Slaney2008-LSHTutorial.pdf)"
   ]
  },
  {
   "cell_type": "code",
   "execution_count": 34,
   "id": "fancy-bottom",
   "metadata": {},
   "outputs": [],
   "source": [
    "import numpy as np\n",
    "import math"
   ]
  },
  {
   "cell_type": "markdown",
   "id": "supreme-uncertainty",
   "metadata": {},
   "source": [
    "## Signature Generator\n",
    "LSH signature generation using random projection.  Creation example:\n",
    "\n",
    "**r1 =** 5258938758107597568730090422086682111341336555356353764484021991907916884238862457752925253205886540063228859967989877341517\n",
    "3708958214185378191229172581078591707136483695662719666201194820344998416019553425368626333566280373218005140028455336616252\n",
    "113734411167457082017629313236890406507495424505529953875716 \n",
    "\n",
    "**r2 =**\n",
    "4188726764665893952181551897213197536490322759612234627111192449758262888603806182273761430857902365465000582299715182381794\n",
    "6025553602019495096619768555900041945849259355914615371488201147608435031471657292041543981419502219834960094881943140319526\n",
    "668290047547998830850975676427533817413288633885065017275967\n",
    "\n",
    "Where \n",
    "* user_vector = is a random dimension (integer) - an array of dim floats\n",
    "* rand_proj = is number between d and user_vector.  d is number of bits per signature.\n",
    "* x << y = Returns x with the bits shifted to the left by y places (and new bits on the right-hand-side are zeros). This is the same as multiplying x by 2**y.\n",
    "\n",
    "**Output:**\n",
    "* res = number of 1's in dot product of rand_proj and user_vector"
   ]
  },
  {
   "cell_type": "code",
   "execution_count": 35,
   "id": "joint-fantasy",
   "metadata": {},
   "outputs": [],
   "source": [
    "def get_signature(user_vector, rand_proj): \n",
    "    res = 0\n",
    "    val = np.dot(rand_proj, user_vector)\n",
    "    for v in val:\n",
    "        res = res << 1\n",
    "        if v >= 0:\n",
    "            res += 1\n",
    "    return res"
   ]
  },
  {
   "cell_type": "markdown",
   "id": "integral-chick",
   "metadata": {},
   "source": [
    "# Binary Tally\n",
    "\n",
    "Where:\n",
    "* num = xor = r1^r2\n",
    "* x & y = Does a \"bitwise and\". Each bit of the output is 1 if the corresponding bit of x AND of y is 1, otherwise it's 0."
   ]
  },
  {
   "cell_type": "code",
   "execution_count": 36,
   "id": "enabling-artist",
   "metadata": {},
   "outputs": [],
   "source": [
    "# get number of '1's in binary\n",
    "# running time: O(# of '1's)\n",
    "def nnz(num):\n",
    "    if num == 0:\n",
    "        return 0\n",
    "    res = 1\n",
    "    num = num & (num-1)\n",
    "    while num:\n",
    "        res += 1\n",
    "        num = num & (num-1)\n",
    "    return res     "
   ]
  },
  {
   "cell_type": "markdown",
   "id": "surgical-integer",
   "metadata": {},
   "source": [
    "## Cosine Similarity\n",
    "\n",
    "Cosine similarity is a measure of similarity between two non-zero vectors of an inner product space. It is defined to equal the cosine of the angle between them, which is also the same as the inner product of the same vectors normalized to both have length 1. The cosine of 0° is 1, and it is less than 1 for any angle in the interval (0, π] radians. It is thus a judgment of orientation and not magnitude: two vectors with the same orientation have a cosine similarity of 1, two vectors oriented at 90° relative to each other have a similarity of 0, and two vectors diametrically opposed have a similarity of -1, independent of their magnitude. The cosine similarity is particularly used in positive space, where the outcome is neatly bounded in [0,1]."
   ]
  },
  {
   "cell_type": "code",
   "execution_count": 37,
   "id": "typical-concept",
   "metadata": {},
   "outputs": [],
   "source": [
    "# angular similarity using definitions\n",
    "# http://en.wikipedia.org/wiki/Cosine_similarity\n",
    "def angular_similarity(a,b):\n",
    "    dot_prod = np.dot(a,b)\n",
    "    sum_a = sum(a**2) **.5\n",
    "    sum_b = sum(b**2) **.5\n",
    "    cosine = dot_prod/sum_a/sum_b # cosine similarity\n",
    "    theta = math.acos(cosine)\n",
    "    return 1.0-(theta/math.pi)"
   ]
  },
  {
   "cell_type": "markdown",
   "id": "competitive-crisis",
   "metadata": {},
   "source": [
    "# Main\n",
    "\n",
    "User defines:\n",
    "* dim - number of dimensions per data\n",
    "* d - number of bits per signature\n",
    "* nruns - repeat times\n",
    "\n",
    "**Outputs:**\n",
    "* true_sim = cosine similarity meassure between user_1 and user_2\n",
    "* hash_sim = binary tally\n",
    "* diff = percent difference\n",
    "\n",
    "**Example:**\n"
   ]
  },
  {
   "cell_type": "code",
   "execution_count": 38,
   "id": "tropical-crowd",
   "metadata": {},
   "outputs": [
    {
     "name": "stdout",
     "output_type": "stream",
     "text": [
      "true 0.4852, hash 0.3750, diff 0.2271\n",
      "true 0.4802, hash 0.4375, diff 0.0890\n",
      "true 0.4786, hash 0.3750, diff 0.2164\n",
      "true 0.4350, hash 0.3750, diff 0.1379\n",
      "true 0.5044, hash 0.5000, diff 0.0086\n",
      "true 0.4521, hash 0.4375, diff 0.0323\n",
      "true 0.4941, hash 0.4375, diff 0.1145\n",
      "true 0.5210, hash 0.3125, diff 0.4002\n",
      "true 0.4558, hash 0.3750, diff 0.1772\n",
      "true 0.5225, hash 0.6875, diff 0.3159\n",
      "true 0.4834, hash 0.4375, diff 0.0949\n",
      "true 0.5098, hash 0.5625, diff 0.1033\n",
      "true 0.5291, hash 0.4375, diff 0.1732\n",
      "true 0.5088, hash 0.5000, diff 0.0174\n",
      "true 0.5086, hash 0.3750, diff 0.2627\n",
      "true 0.5182, hash 0.5000, diff 0.0351\n",
      "true 0.4672, hash 0.5000, diff 0.0702\n",
      "true 0.5151, hash 0.5000, diff 0.0293\n",
      "true 0.5271, hash 0.6250, diff 0.1858\n",
      "true 0.4797, hash 0.6250, diff 0.3028\n",
      "true 0.5176, hash 0.6250, diff 0.2074\n",
      "true 0.4909, hash 0.6875, diff 0.4005\n",
      "true 0.5261, hash 0.5625, diff 0.0693\n",
      "true 0.5140, hash 0.5000, diff 0.0272\n",
      "avg diff 0.1541026093525961\n"
     ]
    }
   ],
   "source": [
    "if __name__ == '__main__':\n",
    "    dim = 200 # number of dimensions per data\n",
    "    d = 2**4 # number of bits per signature\n",
    "    \n",
    "    nruns = 24 # repeat times\n",
    "    \n",
    "    avg = 0\n",
    "    for run in range(nruns):\n",
    "        user1 = np.random.randn(dim)\n",
    "        user2 = np.random.randn(dim)\n",
    "        randv = np.random.randn(d, dim)    \n",
    "        r1 = get_signature(user1, randv)\n",
    "        r2 = get_signature(user2, randv)\n",
    "        xor = r1^r2\n",
    "        true_sim, hash_sim = (angular_similarity(user1, user2), (d-nnz(xor))/float(d))\n",
    "        diff = abs(hash_sim-true_sim)/true_sim\n",
    "        avg += diff\n",
    "        print('true %.4f, hash %.4f, diff %.4f' % (true_sim, hash_sim, diff)) \n",
    "    print('avg diff' , avg / nruns)"
   ]
  },
  {
   "cell_type": "code",
   "execution_count": null,
   "id": "handed-travel",
   "metadata": {},
   "outputs": [],
   "source": []
  }
 ],
 "metadata": {
  "kernelspec": {
   "display_name": "Python 3",
   "language": "python",
   "name": "python3"
  },
  "language_info": {
   "codemirror_mode": {
    "name": "ipython",
    "version": 3
   },
   "file_extension": ".py",
   "mimetype": "text/x-python",
   "name": "python",
   "nbconvert_exporter": "python",
   "pygments_lexer": "ipython3",
   "version": "3.7.3"
  }
 },
 "nbformat": 4,
 "nbformat_minor": 5
}
