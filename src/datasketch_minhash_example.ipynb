{
 "cells": [
  {
   "cell_type": "code",
   "execution_count": 1,
   "id": "prime-classics",
   "metadata": {},
   "outputs": [],
   "source": [
    "from datasketch import MinHash, MinHashLSH"
   ]
  },
  {
   "cell_type": "markdown",
   "id": "universal-round",
   "metadata": {},
   "source": [
    "# Small MinHash Example"
   ]
  },
  {
   "cell_type": "code",
   "execution_count": 13,
   "id": "armed-electricity",
   "metadata": {},
   "outputs": [],
   "source": [
    "set1 = set(['minhash', 'is', 'a', 'probabilistic', 'data', 'structure', 'for',\n",
    "            'estimating', 'the', 'similarity', 'between', 'datasets'])\n",
    "set2 = set(['minhash', 'is', 'a', 'probability', 'data', 'structure', 'for',\n",
    "            'estimating', 'the', 'similarity', 'between', 'documents'])\n",
    "set3 = set(['minhash', 'is', 'probability', 'data', 'structure', 'for',\n",
    "            'estimating', 'the', 'similarity', 'between', 'documents'])"
   ]
  },
  {
   "cell_type": "code",
   "execution_count": 14,
   "id": "informal-detection",
   "metadata": {},
   "outputs": [
    {
     "name": "stdout",
     "output_type": "stream",
     "text": [
      "{'between', 'is', 'structure', 'for', 'datasets', 'probabilistic', 'similarity', 'minhash', 'estimating', 'data', 'the', 'a'}\n"
     ]
    }
   ],
   "source": [
    "print(set1)"
   ]
  },
  {
   "cell_type": "code",
   "execution_count": 15,
   "id": "caroline-howard",
   "metadata": {},
   "outputs": [],
   "source": [
    "m1 = MinHash(num_perm=128)\n",
    "m2 = MinHash(num_perm=128)\n",
    "m3 = MinHash(num_perm=128)"
   ]
  },
  {
   "cell_type": "code",
   "execution_count": 16,
   "id": "stainless-content",
   "metadata": {},
   "outputs": [],
   "source": [
    "for d in set1:\n",
    "    m1.update(d.encode('utf8'))\n",
    "for d in set2:\n",
    "    m2.update(d.encode('utf8'))\n",
    "for d in set3:\n",
    "    m3.update(d.encode('utf8'))"
   ]
  },
  {
   "cell_type": "code",
   "execution_count": 17,
   "id": "answering-transition",
   "metadata": {},
   "outputs": [
    {
     "name": "stdout",
     "output_type": "stream",
     "text": [
      "Approximate neighbours with Jaccard similarity > 0.5 ['m3', 'm2']\n"
     ]
    }
   ],
   "source": [
    "# Create LSH index\n",
    "lsh = MinHashLSH(threshold=0.5, num_perm=128)\n",
    "lsh.insert(\"m2\", m2)\n",
    "lsh.insert(\"m3\", m3)\n",
    "result = lsh.query(m1)\n",
    "print(\"Approximate neighbours with Jaccard similarity > 0.5\", result)"
   ]
  },
  {
   "cell_type": "markdown",
   "id": "regional-abortion",
   "metadata": {},
   "source": [
    "# MinHash LSH with Poem Docs"
   ]
  },
  {
   "cell_type": "code",
   "execution_count": 19,
   "id": "increasing-yahoo",
   "metadata": {},
   "outputs": [],
   "source": [
    "document1 = \"\"\"An elephant slept in his bunk\n",
    "              And in slumber his chest rose and sunk\n",
    "              But he snored how he snored\n",
    "              All the other beasts roared\n",
    "              So his wife tied a knot in his trunk\"\"\"\n",
    "\n",
    "document2 = \"\"\"A large red cow\n",
    "               Tried to make a bow\n",
    "               But did not know how\n",
    "               They say\n",
    "               For her legs got mixed\n",
    "               And her horns got fixed\n",
    "               And her tail would get\n",
    "               In her way\"\"\"\n",
    "\n",
    "document3 = \"\"\"An walrus slept in his bunk\n",
    "              And in slumber his chest rose and sunk\n",
    "              But he snored how he snored\n",
    "              All the other beasts roared\n",
    "              So his wife tied a knot in his whiskers\"\"\"\n",
    "\n",
    "doc_list = [document1, document2, document3]"
   ]
  },
  {
   "cell_type": "code",
   "execution_count": 20,
   "id": "round-period",
   "metadata": {},
   "outputs": [],
   "source": [
    "doc_set = []\n",
    "for d in doc_list:\n",
    "    exploded = d.split(' ')\n",
    "    doc_set.append(set(exploded))"
   ]
  },
  {
   "cell_type": "code",
   "execution_count": 25,
   "id": "typical-flash",
   "metadata": {},
   "outputs": [],
   "source": [
    "minhash_list = []\n",
    "for s in doc_set:\n",
    "    m = MinHash(num_perm=128)\n",
    "    for d in s:\n",
    "        m.update(d.encode('utf8'))\n",
    "    minhash_list.append(m)"
   ]
  },
  {
   "cell_type": "code",
   "execution_count": 29,
   "id": "collect-thumbnail",
   "metadata": {},
   "outputs": [
    {
     "name": "stdout",
     "output_type": "stream",
     "text": [
      "Approximate neighbours with Jaccard similarity > 0.75 ['m3']\n"
     ]
    }
   ],
   "source": [
    "# Create LSH index\n",
    "lsh = MinHashLSH(threshold=0.75, num_perm=128)\n",
    "lsh.insert(\"m2\", minhash_list[1])\n",
    "lsh.insert(\"m3\", minhash_list[2])\n",
    "result = lsh.query(minhash_list[0])\n",
    "print(\"Approximate neighbours with Jaccard similarity > 0.75\", result)"
   ]
  },
  {
   "cell_type": "code",
   "execution_count": null,
   "id": "first-anatomy",
   "metadata": {},
   "outputs": [],
   "source": []
  }
 ],
 "metadata": {
  "kernelspec": {
   "display_name": "Python 3",
   "language": "python",
   "name": "python3"
  },
  "language_info": {
   "codemirror_mode": {
    "name": "ipython",
    "version": 3
   },
   "file_extension": ".py",
   "mimetype": "text/x-python",
   "name": "python",
   "nbconvert_exporter": "python",
   "pygments_lexer": "ipython3",
   "version": "3.7.3"
  }
 },
 "nbformat": 4,
 "nbformat_minor": 5
}
