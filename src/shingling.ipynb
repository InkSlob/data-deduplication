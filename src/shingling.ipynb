{
 "cells": [
  {
   "cell_type": "markdown",
   "id": "latest-overall",
   "metadata": {},
   "source": [
    "# Shingling with Jaccard\n",
    "\n",
    "Comparing document similarities where the set of objects is word or character ngrams taken over a sliding window from the document (shingles). The set of shingles is used to determine the document similarity, Jaccard similarity, between a pair of documents."
   ]
  },
  {
   "cell_type": "code",
   "execution_count": 80,
   "id": "formed-halloween",
   "metadata": {},
   "outputs": [],
   "source": [
    "from tabulate import tabulate\n",
    "\n",
    "\n",
    "shingle_size = 5"
   ]
  },
  {
   "cell_type": "code",
   "execution_count": 81,
   "id": "interested-screen",
   "metadata": {},
   "outputs": [],
   "source": [
    "def shingler(doc, size):\n",
    "    return [doc[i:i+size] for i in range(len(doc))][:-size]"
   ]
  },
  {
   "cell_type": "code",
   "execution_count": 82,
   "id": "processed-delta",
   "metadata": {},
   "outputs": [],
   "source": [
    "def jaccard_dist(shingle1, shingle2):\n",
    "    return len(set(shingle1) & set(shingle2)) / len(set(shingle1) | set(shingle2))"
   ]
  },
  {
   "cell_type": "code",
   "execution_count": 83,
   "id": "wanted-rehabilitation",
   "metadata": {},
   "outputs": [],
   "source": [
    "document1 = \"\"\"An elephant slept in his bunk\n",
    "              And in slumber his chest rose and sunk\n",
    "              But he snored how he snored\n",
    "              All the other beasts roared\n",
    "              So his wife tied a knot in his trunk\"\"\"\n",
    "\n",
    "document2 = \"\"\"A large red cow\n",
    "               Tried to make a bow\n",
    "               But did not know how\n",
    "               They say\n",
    "               For her legs got mixed\n",
    "               And her horns got fixed\n",
    "               And her tail would get\n",
    "               In her way\"\"\"\n",
    "\n",
    "document3 = \"\"\"An walrus slept in his bunk\n",
    "              And in slumber his chest rose and sunk\n",
    "              But he snored how he snored\n",
    "              All the other beasts roared\n",
    "              So his wife tied a knot in his whiskers\"\"\""
   ]
  },
  {
   "cell_type": "code",
   "execution_count": 84,
   "id": "ranking-personality",
   "metadata": {},
   "outputs": [
    {
     "data": {
      "text/plain": [
       "['An el',\n",
       " 'n ele',\n",
       " ' elep',\n",
       " 'eleph',\n",
       " 'lepha',\n",
       " 'ephan',\n",
       " 'phant',\n",
       " 'hant ',\n",
       " 'ant s',\n",
       " 'nt sl']"
      ]
     },
     "execution_count": 84,
     "metadata": {},
     "output_type": "execute_result"
    }
   ],
   "source": [
    "# shingle and discard the last x as these are just the last n<x characters from the document\n",
    "shingle1 = shingler(document1, shingle_size)\n",
    "shingle1[0:10]"
   ]
  },
  {
   "cell_type": "code",
   "execution_count": 85,
   "id": "healthy-batman",
   "metadata": {},
   "outputs": [
    {
     "data": {
      "text/plain": [
       "['An wa',\n",
       " 'n wal',\n",
       " ' walr',\n",
       " 'walru',\n",
       " 'alrus',\n",
       " 'lrus ',\n",
       " 'rus s',\n",
       " 'us sl',\n",
       " 's sle',\n",
       " ' slep']"
      ]
     },
     "execution_count": 85,
     "metadata": {},
     "output_type": "execute_result"
    }
   ],
   "source": [
    "# shingle and discard the last x as these are just the last n<x characters from the document\n",
    "shingle2 = shingler(document2, shingle_size)\n",
    "shingles[0:10]"
   ]
  },
  {
   "cell_type": "code",
   "execution_count": 86,
   "id": "improving-alarm",
   "metadata": {},
   "outputs": [
    {
     "data": {
      "text/plain": [
       "['An wa',\n",
       " 'n wal',\n",
       " ' walr',\n",
       " 'walru',\n",
       " 'alrus',\n",
       " 'lrus ',\n",
       " 'rus s',\n",
       " 'us sl',\n",
       " 's sle',\n",
       " ' slep']"
      ]
     },
     "execution_count": 86,
     "metadata": {},
     "output_type": "execute_result"
    }
   ],
   "source": [
    "# shingle and discard the last x as these are just the last n<x characters from the document\n",
    "shingle3 = shingler(document3, shingle_size)\n",
    "shingles[0:10]"
   ]
  },
  {
   "cell_type": "code",
   "execution_count": 87,
   "id": "equipped-equity",
   "metadata": {},
   "outputs": [
    {
     "name": "stdout",
     "output_type": "stream",
     "text": [
      "Document 1 and Document 2 Jaccard Distance: 0.047619047619047616\n"
     ]
    }
   ],
   "source": [
    "# Jaccard distance is the size of set intersection divided by the size of set union\n",
    "print(f\"Document 1 and Document 2 Jaccard Distance: {jaccard_dist(shingle1, shingle2)}\")"
   ]
  },
  {
   "cell_type": "code",
   "execution_count": 88,
   "id": "rough-hunter",
   "metadata": {},
   "outputs": [
    {
     "name": "stdout",
     "output_type": "stream",
     "text": [
      "Document 1 and Document 3 Jaccard Distance: 0.8181818181818182\n"
     ]
    }
   ],
   "source": [
    "# Jaccard distance is the size of set intersection divided by the size of set union\n",
    "print(f\"Document 1 and Document 3 Jaccard Distance: {jaccard_dist(shingle1, shingle3)}\")"
   ]
  },
  {
   "cell_type": "code",
   "execution_count": 89,
   "id": "pursuant-bangkok",
   "metadata": {},
   "outputs": [
    {
     "name": "stdout",
     "output_type": "stream",
     "text": [
      "Document 2 and Document 3 Jaccard Distance: 0.047619047619047616\n"
     ]
    }
   ],
   "source": [
    "# Jaccard distance is the size of set intersection divided by the size of set union\n",
    "print(f\"Document 2 and Document 3 Jaccard Distance: {jaccard_dist(shingle2, shingle3)}\")"
   ]
  },
  {
   "cell_type": "code",
   "execution_count": 90,
   "id": "enhanced-wichita",
   "metadata": {},
   "outputs": [],
   "source": [
    "shingle_sizes = [1,2,3,4,5,6,7,8,9,10,11,12,13,15]\n",
    "jaccard_list = []\n",
    "for s in shingle_sizes:\n",
    "    temp_shingle_1 = shingler(document1, s)\n",
    "    temp_shingle_2 = shingler(document2, s)\n",
    "    temp_shingle_3 = shingler(document3, s)\n",
    "    j1 = jaccard_dist(temp_shingle_1, temp_shingle_2)\n",
    "    j2 = jaccard_dist(temp_shingle_2, temp_shingle_3)\n",
    "    j3 = jaccard_dist(temp_shingle_1, temp_shingle_3)\n",
    "    temp_list = []\n",
    "    temp_list.append(j1)\n",
    "    temp_list.append(j2)\n",
    "    temp_list.append(j3)\n",
    "    temp_list.append(s)\n",
    "    jaccard_list.append(temp_list)\n",
    "    "
   ]
  },
  {
   "cell_type": "code",
   "execution_count": 98,
   "id": "frequent-trigger",
   "metadata": {},
   "outputs": [
    {
     "name": "stdout",
     "output_type": "stream",
     "text": [
      "1:2\t\t2:3\t1:3\tShingle Size\n",
      "---------  ---------  --------  --\n",
      "0.727273   0.727273   1          1\n",
      "0.300699   0.314685   0.858586   2\n",
      "0.146018   0.150442   0.816327   3\n",
      "0.0817844  0.0817844  0.809524   4\n",
      "0.047619   0.047619   0.818182   5\n",
      "0.0451613  0.0451613  0.825137   6\n",
      "0.0434783  0.0433437  0.825397   7\n",
      "0.042042   0.0419162  0.829897   8\n",
      "0.0406977  0.0405797  0.834171   9\n",
      "0.0394366  0.0393258  0.838235  10\n",
      "0.0383562  0.0382514  0.841346  11\n",
      "0.0374332  0.0373333  0.843602  12\n",
      "0.0365535  0.0364583  0.845794  13\n",
      "0.032419   0.0323383  0.849315  15\n",
      "---------  ---------  --------  --\n"
     ]
    }
   ],
   "source": [
    "print(\"1:2\\t\\t2:3\\t1:3\\tShingle Size\")\n",
    "print(tabulate(jaccard_list))"
   ]
  }
 ],
 "metadata": {
  "kernelspec": {
   "display_name": "Python 3",
   "language": "python",
   "name": "python3"
  },
  "language_info": {
   "codemirror_mode": {
    "name": "ipython",
    "version": 3
   },
   "file_extension": ".py",
   "mimetype": "text/x-python",
   "name": "python",
   "nbconvert_exporter": "python",
   "pygments_lexer": "ipython3",
   "version": "3.7.3"
  }
 },
 "nbformat": 4,
 "nbformat_minor": 5
}
