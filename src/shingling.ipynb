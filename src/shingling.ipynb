{
 "cells": [
  {
   "cell_type": "markdown",
   "id": "differential-baker",
   "metadata": {},
   "source": [
    "# Shingling with Jaccard\n",
    "\n",
    "Comparing document similarities where the set of objects is word or character ngrams taken over a sliding window from the document (shingles). The set of shingles is used to determine the document similarity, Jaccard similarity, between a pair of documents."
   ]
  },
  {
   "cell_type": "code",
   "execution_count": null,
   "id": "swiss-adams",
   "metadata": {},
   "outputs": [],
   "source": [
    "shingle_size = 10"
   ]
  },
  {
   "cell_type": "code",
   "execution_count": 50,
   "id": "chemical-explorer",
   "metadata": {},
   "outputs": [],
   "source": [
    "def shingler(doc, size):\n",
    "    return [doc[i:i+size] for i in range(len(doc))][:-size]"
   ]
  },
  {
   "cell_type": "code",
   "execution_count": 51,
   "id": "fatty-medicaid",
   "metadata": {},
   "outputs": [],
   "source": [
    "def jaccard_dist(shingle1, shingle2):\n",
    "    return len(set(shingle1) & set(shingle2)) / len(set(shingle1) | set(shingle2))"
   ]
  },
  {
   "cell_type": "code",
   "execution_count": 52,
   "id": "sound-republican",
   "metadata": {},
   "outputs": [],
   "source": [
    "document1 = \"\"\"An elephant slept in his bunk,\n",
    "              And in slumber his chest rose and sunk.\n",
    "              But he snored how he snored!\n",
    "              All the other beasts roared,\n",
    "              So his wife tied a knot in his trunk.\"\"\"\n",
    "\n",
    "document2 = \"\"\"A large red cow\n",
    "               Tried to make a bow,\n",
    "               But did not know how,\n",
    "               They say.\n",
    "               For her legs got mixed,\n",
    "               And her horns got fixed,\n",
    "               And her tail would get\n",
    "               In her way.\"\"\"\n",
    "\n",
    "document3 = \"\"\"An walrus slept in his bunk,\n",
    "              And in slumber his chest rose and sunk.\n",
    "              But he snored how he snored!\n",
    "              All the other beasts roared,\n",
    "              So his wife tied a knot in his whiskers.\"\"\""
   ]
  },
  {
   "cell_type": "code",
   "execution_count": 53,
   "id": "electrical-front",
   "metadata": {},
   "outputs": [
    {
     "data": {
      "text/plain": [
       "['An elephan',\n",
       " 'n elephant',\n",
       " ' elephant ',\n",
       " 'elephant s',\n",
       " 'lephant sl',\n",
       " 'ephant sle',\n",
       " 'phant slep',\n",
       " 'hant slept',\n",
       " 'ant slept ',\n",
       " 'nt slept i']"
      ]
     },
     "execution_count": 53,
     "metadata": {},
     "output_type": "execute_result"
    }
   ],
   "source": [
    "# shingle and discard the last x as these are just the last n<x characters from the document\n",
    "shingle1 = shingler(document1, shingle_size)\n",
    "shingle1[0:10]"
   ]
  },
  {
   "cell_type": "code",
   "execution_count": 54,
   "id": "serious-services",
   "metadata": {},
   "outputs": [
    {
     "data": {
      "text/plain": [
       "['An wa',\n",
       " 'n wal',\n",
       " ' walr',\n",
       " 'walru',\n",
       " 'alrus',\n",
       " 'lrus ',\n",
       " 'rus s',\n",
       " 'us sl',\n",
       " 's sle',\n",
       " ' slep']"
      ]
     },
     "execution_count": 54,
     "metadata": {},
     "output_type": "execute_result"
    }
   ],
   "source": [
    "# shingle and discard the last x as these are just the last n<x characters from the document\n",
    "shingle2 = shingler(document2, shingle_size)\n",
    "shingles[0:10]"
   ]
  },
  {
   "cell_type": "code",
   "execution_count": 55,
   "id": "aggressive-block",
   "metadata": {},
   "outputs": [
    {
     "data": {
      "text/plain": [
       "['An wa',\n",
       " 'n wal',\n",
       " ' walr',\n",
       " 'walru',\n",
       " 'alrus',\n",
       " 'lrus ',\n",
       " 'rus s',\n",
       " 'us sl',\n",
       " 's sle',\n",
       " ' slep']"
      ]
     },
     "execution_count": 55,
     "metadata": {},
     "output_type": "execute_result"
    }
   ],
   "source": [
    "# shingle and discard the last x as these are just the last n<x characters from the document\n",
    "shingle3 = shingler(document3, shingle_size)\n",
    "shingles[0:10]"
   ]
  },
  {
   "cell_type": "code",
   "execution_count": 56,
   "id": "wanted-transcription",
   "metadata": {},
   "outputs": [
    {
     "name": "stdout",
     "output_type": "stream",
     "text": [
      "Document 1 and Document 2 Jaccard Distance: 0.03943661971830986\n"
     ]
    }
   ],
   "source": [
    "# Jaccard distance is the size of set intersection divided by the size of set union\n",
    "print(f\"Document 1 and Document 2 Jaccard Distance: {jaccard_dist(shingle1, shingle2)}\")"
   ]
  },
  {
   "cell_type": "code",
   "execution_count": 57,
   "id": "random-three",
   "metadata": {},
   "outputs": [
    {
     "name": "stdout",
     "output_type": "stream",
     "text": [
      "Document 1 and Document 3 Jaccard Distance: 0.8382352941176471\n"
     ]
    }
   ],
   "source": [
    "# Jaccard distance is the size of set intersection divided by the size of set union\n",
    "print(f\"Document 1 and Document 3 Jaccard Distance: {jaccard_dist(shingle1, shingle3)}\")"
   ]
  },
  {
   "cell_type": "code",
   "execution_count": 58,
   "id": "musical-apollo",
   "metadata": {},
   "outputs": [
    {
     "name": "stdout",
     "output_type": "stream",
     "text": [
      "Document 2 and Document 3 Jaccard Distance: 0.03932584269662921\n"
     ]
    }
   ],
   "source": [
    "# Jaccard distance is the size of set intersection divided by the size of set union\n",
    "print(f\"Document 2 and Document 3 Jaccard Distance: {jaccard_dist(shingle2, shingle3)}\")"
   ]
  },
  {
   "cell_type": "code",
   "execution_count": 65,
   "id": "radio-profit",
   "metadata": {},
   "outputs": [],
   "source": [
    "shingle_sizes = [1,2,3,4,5,6,7,8,9,10,11,12,13,15]\n",
    "jaccard_list = []\n",
    "for s in shingle_sizes:\n",
    "    temp_shingle_1 = shingler(document1, s)\n",
    "    temp_shingle_2 = shingler(document2, s)\n",
    "    temp_shingle_3 = shingler(document3, s)\n",
    "    j1 = jaccard_dist(temp_shingle_1, temp_shingle_2)\n",
    "    j2 = jaccard_dist(temp_shingle_2, temp_shingle_3)\n",
    "    j3 = jaccard_dist(temp_shingle_1, temp_shingle_3)\n",
    "    temp_list = []\n",
    "    temp_list.append(j1)\n",
    "    temp_list.append(j2)\n",
    "    temp_list.append(j3)\n",
    "    temp_list.append(s)\n",
    "    jaccard_list.append(temp_list)\n",
    "    "
   ]
  },
  {
   "cell_type": "code",
   "execution_count": 66,
   "id": "beneficial-beijing",
   "metadata": {},
   "outputs": [
    {
     "name": "stdout",
     "output_type": "stream",
     "text": [
      "[0.7272727272727273, 0.7272727272727273, 1.0, 1]\n",
      "[0.3006993006993007, 0.3146853146853147, 0.8585858585858586, 2]\n",
      "[0.14601769911504425, 0.1504424778761062, 0.8163265306122449, 3]\n",
      "[0.08178438661710037, 0.08178438661710037, 0.8095238095238095, 4]\n",
      "[0.047619047619047616, 0.047619047619047616, 0.8181818181818182, 5]\n",
      "[0.04516129032258064, 0.04516129032258064, 0.825136612021858, 6]\n",
      "[0.043478260869565216, 0.043343653250773995, 0.8253968253968254, 7]\n",
      "[0.042042042042042045, 0.041916167664670656, 0.8298969072164949, 8]\n",
      "[0.040697674418604654, 0.04057971014492753, 0.8341708542713567, 9]\n",
      "[0.03943661971830986, 0.03932584269662921, 0.8382352941176471, 10]\n",
      "[0.038356164383561646, 0.03825136612021858, 0.8413461538461539, 11]\n",
      "[0.0374331550802139, 0.037333333333333336, 0.8436018957345972, 12]\n",
      "[0.03655352480417755, 0.036458333333333336, 0.8457943925233645, 13]\n",
      "[0.032418952618453865, 0.03233830845771144, 0.8493150684931506, 15]\n"
     ]
    }
   ],
   "source": [
    "for e in jaccard_list:\n",
    "    print(e)"
   ]
  },
  {
   "cell_type": "code",
   "execution_count": null,
   "id": "educated-crossing",
   "metadata": {},
   "outputs": [],
   "source": []
  }
 ],
 "metadata": {
  "kernelspec": {
   "display_name": "Python 3",
   "language": "python",
   "name": "python3"
  },
  "language_info": {
   "codemirror_mode": {
    "name": "ipython",
    "version": 3
   },
   "file_extension": ".py",
   "mimetype": "text/x-python",
   "name": "python",
   "nbconvert_exporter": "python",
   "pygments_lexer": "ipython3",
   "version": "3.7.3"
  }
 },
 "nbformat": 4,
 "nbformat_minor": 5
}
