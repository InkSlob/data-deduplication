{
 "cells": [
  {
   "cell_type": "markdown",
   "id": "specific-september",
   "metadata": {},
   "source": [
    "# Shingling with Jaccard\n",
    "\n",
    "Comparing document similarities where the set of objects is word or character ngrams taken over a sliding window from the document (shingles). The set of shingles is used to determine the document similarity, Jaccard similarity, between a pair of documents."
   ]
  },
  {
   "cell_type": "code",
   "execution_count": null,
   "id": "acute-approach",
   "metadata": {},
   "outputs": [],
   "source": [
    "shingle_size = 10"
   ]
  },
  {
   "cell_type": "code",
   "execution_count": 50,
   "id": "seeing-planner",
   "metadata": {},
   "outputs": [],
   "source": [
    "def shingler(doc, size):\n",
    "    return [doc[i:i+size] for i in range(len(doc))][:-size]"
   ]
  },
  {
   "cell_type": "code",
   "execution_count": 51,
   "id": "noble-friendship",
   "metadata": {},
   "outputs": [],
   "source": [
    "def jaccard_dist(shingle1, shingle2):\n",
    "    return len(set(shingle1) & set(shingle2)) / len(set(shingle1) | set(shingle2))"
   ]
  },
  {
   "cell_type": "code",
   "execution_count": 52,
   "id": "saving-intelligence",
   "metadata": {},
   "outputs": [],
   "source": [
    "document1 = \"\"\"An elephant slept in his bunk,\n",
    "              And in slumber his chest rose and sunk.\n",
    "              But he snored how he snored!\n",
    "              All the other beasts roared,\n",
    "              So his wife tied a knot in his trunk.\"\"\"\n",
    "\n",
    "document2 = \"\"\"A large red cow\n",
    "               Tried to make a bow,\n",
    "               But did not know how,\n",
    "               They say.\n",
    "               For her legs got mixed,\n",
    "               And her horns got fixed,\n",
    "               And her tail would get\n",
    "               In her way.\"\"\"\n",
    "\n",
    "document3 = \"\"\"An walrus slept in his bunk,\n",
    "              And in slumber his chest rose and sunk.\n",
    "              But he snored how he snored!\n",
    "              All the other beasts roared,\n",
    "              So his wife tied a knot in his whiskers.\"\"\""
   ]
  },
  {
   "cell_type": "code",
   "execution_count": 53,
   "id": "advised-contemporary",
   "metadata": {},
   "outputs": [
    {
     "data": {
      "text/plain": [
       "['An elephan',\n",
       " 'n elephant',\n",
       " ' elephant ',\n",
       " 'elephant s',\n",
       " 'lephant sl',\n",
       " 'ephant sle',\n",
       " 'phant slep',\n",
       " 'hant slept',\n",
       " 'ant slept ',\n",
       " 'nt slept i']"
      ]
     },
     "execution_count": 53,
     "metadata": {},
     "output_type": "execute_result"
    }
   ],
   "source": [
    "# shingle and discard the last x as these are just the last n<x characters from the document\n",
    "shingle1 = shingler(document1, shingle_size)\n",
    "shingle1[0:10]"
   ]
  },
  {
   "cell_type": "code",
   "execution_count": 54,
   "id": "saved-fraction",
   "metadata": {},
   "outputs": [
    {
     "data": {
      "text/plain": [
       "['An wa',\n",
       " 'n wal',\n",
       " ' walr',\n",
       " 'walru',\n",
       " 'alrus',\n",
       " 'lrus ',\n",
       " 'rus s',\n",
       " 'us sl',\n",
       " 's sle',\n",
       " ' slep']"
      ]
     },
     "execution_count": 54,
     "metadata": {},
     "output_type": "execute_result"
    }
   ],
   "source": [
    "# shingle and discard the last x as these are just the last n<x characters from the document\n",
    "shingle2 = shingler(document2, shingle_size)\n",
    "shingles[0:10]"
   ]
  },
  {
   "cell_type": "code",
   "execution_count": 55,
   "id": "valid-anime",
   "metadata": {},
   "outputs": [
    {
     "data": {
      "text/plain": [
       "['An wa',\n",
       " 'n wal',\n",
       " ' walr',\n",
       " 'walru',\n",
       " 'alrus',\n",
       " 'lrus ',\n",
       " 'rus s',\n",
       " 'us sl',\n",
       " 's sle',\n",
       " ' slep']"
      ]
     },
     "execution_count": 55,
     "metadata": {},
     "output_type": "execute_result"
    }
   ],
   "source": [
    "# shingle and discard the last x as these are just the last n<x characters from the document\n",
    "shingle3 = shingler(document3, shingle_size)\n",
    "shingles[0:10]"
   ]
  },
  {
   "cell_type": "code",
   "execution_count": 56,
   "id": "increasing-attraction",
   "metadata": {},
   "outputs": [
    {
     "name": "stdout",
     "output_type": "stream",
     "text": [
      "Document 1 and Document 2 Jaccard Distance: 0.03943661971830986\n"
     ]
    }
   ],
   "source": [
    "# Jaccard distance is the size of set intersection divided by the size of set union\n",
    "print(f\"Document 1 and Document 2 Jaccard Distance: {jaccard_dist(shingle1, shingle2)}\")"
   ]
  },
  {
   "cell_type": "code",
   "execution_count": 57,
   "id": "appointed-wildlife",
   "metadata": {},
   "outputs": [
    {
     "name": "stdout",
     "output_type": "stream",
     "text": [
      "Document 1 and Document 3 Jaccard Distance: 0.8382352941176471\n"
     ]
    }
   ],
   "source": [
    "# Jaccard distance is the size of set intersection divided by the size of set union\n",
    "print(f\"Document 1 and Document 3 Jaccard Distance: {jaccard_dist(shingle1, shingle3)}\")"
   ]
  },
  {
   "cell_type": "code",
   "execution_count": 58,
   "id": "considerable-patio",
   "metadata": {},
   "outputs": [
    {
     "name": "stdout",
     "output_type": "stream",
     "text": [
      "Document 2 and Document 3 Jaccard Distance: 0.03932584269662921\n"
     ]
    }
   ],
   "source": [
    "# Jaccard distance is the size of set intersection divided by the size of set union\n",
    "print(f\"Document 2 and Document 3 Jaccard Distance: {jaccard_dist(shingle2, shingle3)}\")"
   ]
  },
  {
   "cell_type": "code",
   "execution_count": null,
   "id": "informal-testament",
   "metadata": {},
   "outputs": [],
   "source": []
  }
 ],
 "metadata": {
  "kernelspec": {
   "display_name": "Python 3",
   "language": "python",
   "name": "python3"
  },
  "language_info": {
   "codemirror_mode": {
    "name": "ipython",
    "version": 3
   },
   "file_extension": ".py",
   "mimetype": "text/x-python",
   "name": "python",
   "nbconvert_exporter": "python",
   "pygments_lexer": "ipython3",
   "version": "3.7.3"
  }
 },
 "nbformat": 4,
 "nbformat_minor": 5
}
